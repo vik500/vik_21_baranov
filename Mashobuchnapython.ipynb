{
  "nbformat": 4,
  "nbformat_minor": 0,
  "metadata": {
    "colab": {
      "name": "Mashobuchnapython.ipynb",
      "provenance": [],
      "collapsed_sections": [],
      "authorship_tag": "ABX9TyMmnbsvHZQx+xBXTUaFFSPn",
      "include_colab_link": true
    },
    "kernelspec": {
      "name": "python3",
      "display_name": "Python 3"
    }
  },
  "cells": [
    {
      "cell_type": "markdown",
      "metadata": {
        "id": "view-in-github",
        "colab_type": "text"
      },
      "source": [
        "<a href=\"https://colab.research.google.com/github/vik500/vik_21_baranov/blob/main/Mashobuchnapython.ipynb\" target=\"_parent\"><img src=\"https://colab.research.google.com/assets/colab-badge.svg\" alt=\"Open In Colab\"/></a>"
      ]
    },
    {
      "cell_type": "code",
      "metadata": {
        "id": "eUj5ubd4E9vY"
      },
      "source": [
        ""
      ],
      "execution_count": null,
      "outputs": []
    },
    {
      "cell_type": "markdown",
      "metadata": {
        "id": "N_71lnwXWAGY"
      },
      "source": [
        " МЕТОДЫ МАШИННОГО ОБУЧЕНИЯ С УЧИТЕЛЕМ"
      ]
    },
    {
      "cell_type": "code",
      "metadata": {
        "colab": {
          "base_uri": "https://localhost:8080/"
        },
        "id": "yUScm0QKRuYc",
        "outputId": "6f6cb360-575b-4879-d5b1-d9ecf3766b54"
      },
      "source": [
        "!pip install mglearn"
      ],
      "execution_count": null,
      "outputs": [
        {
          "output_type": "stream",
          "text": [
            "Collecting mglearn\n",
            "\u001b[?25l  Downloading https://files.pythonhosted.org/packages/65/38/8aced26fce0b2ae82c3c87cd3b6105f38ca6d9d51704ecc44aa54473e6b9/mglearn-0.1.9.tar.gz (540kB)\n",
            "\r\u001b[K     |▋                               | 10kB 14.9MB/s eta 0:00:01\r\u001b[K     |█▏                              | 20kB 10.7MB/s eta 0:00:01\r\u001b[K     |█▉                              | 30kB 8.4MB/s eta 0:00:01\r\u001b[K     |██▍                             | 40kB 7.6MB/s eta 0:00:01\r\u001b[K     |███                             | 51kB 4.6MB/s eta 0:00:01\r\u001b[K     |███▋                            | 61kB 4.5MB/s eta 0:00:01\r\u001b[K     |████▎                           | 71kB 4.9MB/s eta 0:00:01\r\u001b[K     |████▉                           | 81kB 5.1MB/s eta 0:00:01\r\u001b[K     |█████▌                          | 92kB 5.5MB/s eta 0:00:01\r\u001b[K     |██████                          | 102kB 5.8MB/s eta 0:00:01\r\u001b[K     |██████▊                         | 112kB 5.8MB/s eta 0:00:01\r\u001b[K     |███████▎                        | 122kB 5.8MB/s eta 0:00:01\r\u001b[K     |███████▉                        | 133kB 5.8MB/s eta 0:00:01\r\u001b[K     |████████▌                       | 143kB 5.8MB/s eta 0:00:01\r\u001b[K     |█████████                       | 153kB 5.8MB/s eta 0:00:01\r\u001b[K     |█████████▊                      | 163kB 5.8MB/s eta 0:00:01\r\u001b[K     |██████████▎                     | 174kB 5.8MB/s eta 0:00:01\r\u001b[K     |███████████                     | 184kB 5.8MB/s eta 0:00:01\r\u001b[K     |███████████▌                    | 194kB 5.8MB/s eta 0:00:01\r\u001b[K     |████████████▏                   | 204kB 5.8MB/s eta 0:00:01\r\u001b[K     |████████████▊                   | 215kB 5.8MB/s eta 0:00:01\r\u001b[K     |█████████████▍                  | 225kB 5.8MB/s eta 0:00:01\r\u001b[K     |██████████████                  | 235kB 5.8MB/s eta 0:00:01\r\u001b[K     |██████████████▋                 | 245kB 5.8MB/s eta 0:00:01\r\u001b[K     |███████████████▏                | 256kB 5.8MB/s eta 0:00:01\r\u001b[K     |███████████████▊                | 266kB 5.8MB/s eta 0:00:01\r\u001b[K     |████████████████▍               | 276kB 5.8MB/s eta 0:00:01\r\u001b[K     |█████████████████               | 286kB 5.8MB/s eta 0:00:01\r\u001b[K     |█████████████████▋              | 296kB 5.8MB/s eta 0:00:01\r\u001b[K     |██████████████████▏             | 307kB 5.8MB/s eta 0:00:01\r\u001b[K     |██████████████████▉             | 317kB 5.8MB/s eta 0:00:01\r\u001b[K     |███████████████████▍            | 327kB 5.8MB/s eta 0:00:01\r\u001b[K     |████████████████████            | 337kB 5.8MB/s eta 0:00:01\r\u001b[K     |████████████████████▋           | 348kB 5.8MB/s eta 0:00:01\r\u001b[K     |█████████████████████▎          | 358kB 5.8MB/s eta 0:00:01\r\u001b[K     |█████████████████████▉          | 368kB 5.8MB/s eta 0:00:01\r\u001b[K     |██████████████████████▌         | 378kB 5.8MB/s eta 0:00:01\r\u001b[K     |███████████████████████         | 389kB 5.8MB/s eta 0:00:01\r\u001b[K     |███████████████████████▋        | 399kB 5.8MB/s eta 0:00:01\r\u001b[K     |████████████████████████▎       | 409kB 5.8MB/s eta 0:00:01\r\u001b[K     |████████████████████████▉       | 419kB 5.8MB/s eta 0:00:01\r\u001b[K     |█████████████████████████▌      | 430kB 5.8MB/s eta 0:00:01\r\u001b[K     |██████████████████████████      | 440kB 5.8MB/s eta 0:00:01\r\u001b[K     |██████████████████████████▊     | 450kB 5.8MB/s eta 0:00:01\r\u001b[K     |███████████████████████████▎    | 460kB 5.8MB/s eta 0:00:01\r\u001b[K     |████████████████████████████    | 471kB 5.8MB/s eta 0:00:01\r\u001b[K     |████████████████████████████▌   | 481kB 5.8MB/s eta 0:00:01\r\u001b[K     |█████████████████████████████▏  | 491kB 5.8MB/s eta 0:00:01\r\u001b[K     |█████████████████████████████▊  | 501kB 5.8MB/s eta 0:00:01\r\u001b[K     |██████████████████████████████▍ | 512kB 5.8MB/s eta 0:00:01\r\u001b[K     |███████████████████████████████ | 522kB 5.8MB/s eta 0:00:01\r\u001b[K     |███████████████████████████████▌| 532kB 5.8MB/s eta 0:00:01\r\u001b[K     |████████████████████████████████| 542kB 5.8MB/s \n",
            "\u001b[?25hRequirement already satisfied: numpy in /usr/local/lib/python3.7/dist-packages (from mglearn) (1.19.5)\n",
            "Requirement already satisfied: matplotlib in /usr/local/lib/python3.7/dist-packages (from mglearn) (3.2.2)\n",
            "Requirement already satisfied: scikit-learn in /usr/local/lib/python3.7/dist-packages (from mglearn) (0.22.2.post1)\n",
            "Requirement already satisfied: pandas in /usr/local/lib/python3.7/dist-packages (from mglearn) (1.1.5)\n",
            "Requirement already satisfied: pillow in /usr/local/lib/python3.7/dist-packages (from mglearn) (7.0.0)\n",
            "Requirement already satisfied: cycler in /usr/local/lib/python3.7/dist-packages (from mglearn) (0.10.0)\n",
            "Requirement already satisfied: imageio in /usr/local/lib/python3.7/dist-packages (from mglearn) (2.4.1)\n",
            "Requirement already satisfied: joblib in /usr/local/lib/python3.7/dist-packages (from mglearn) (1.0.1)\n",
            "Requirement already satisfied: kiwisolver>=1.0.1 in /usr/local/lib/python3.7/dist-packages (from matplotlib->mglearn) (1.3.1)\n",
            "Requirement already satisfied: pyparsing!=2.0.4,!=2.1.2,!=2.1.6,>=2.0.1 in /usr/local/lib/python3.7/dist-packages (from matplotlib->mglearn) (2.4.7)\n",
            "Requirement already satisfied: python-dateutil>=2.1 in /usr/local/lib/python3.7/dist-packages (from matplotlib->mglearn) (2.8.1)\n",
            "Requirement already satisfied: scipy>=0.17.0 in /usr/local/lib/python3.7/dist-packages (from scikit-learn->mglearn) (1.4.1)\n",
            "Requirement already satisfied: pytz>=2017.2 in /usr/local/lib/python3.7/dist-packages (from pandas->mglearn) (2018.9)\n",
            "Requirement already satisfied: six in /usr/local/lib/python3.7/dist-packages (from cycler->mglearn) (1.15.0)\n",
            "Building wheels for collected packages: mglearn\n",
            "  Building wheel for mglearn (setup.py) ... \u001b[?25l\u001b[?25hdone\n",
            "  Created wheel for mglearn: filename=mglearn-0.1.9-py2.py3-none-any.whl size=582638 sha256=82c4d4429dc7013d4fe82ecb94a2b3b76e945a49e448f87dd60091ec942a3a88\n",
            "  Stored in directory: /root/.cache/pip/wheels/eb/a6/ea/a6a3716233fa62fc561259b5cb1e28f79e9ff3592c0adac5f0\n",
            "Successfully built mglearn\n",
            "Installing collected packages: mglearn\n",
            "Successfully installed mglearn-0.1.9\n"
          ],
          "name": "stdout"
        }
      ]
    },
    {
      "cell_type": "code",
      "metadata": {
        "id": "CowN_PPVTD8m"
      },
      "source": [
        "import mglearn\n",
        "import matplotlib\n",
        "import matplotlib.pyplot as plt"
      ],
      "execution_count": null,
      "outputs": []
    },
    {
      "cell_type": "code",
      "metadata": {
        "colab": {
          "base_uri": "https://localhost:8080/",
          "height": 273
        },
        "id": "vZe91jUpRE9x",
        "outputId": "397d0c9d-e033-482a-990a-fbc29dc3c930"
      },
      "source": [
        " \n",
        "X, y = mglearn.datasets.make_forge() \n",
        "# строим график для набора данных \n",
        "%matplotlib inline \n",
        "mglearn.discrete_scatter(X[:, 0], X[:, 1], y) \n",
        "plt.legend([\"Класс 0\", \"Класс 1\"], loc=4) \n",
        "plt.xlabel(\"Первый признак\") \n",
        "plt.ylabel(\"Второй признак\") \n",
        "print(\"форма массива X: {}\".format(X.shape))"
      ],
      "execution_count": null,
      "outputs": [
        {
          "output_type": "stream",
          "text": [
            "/usr/local/lib/python3.6/dist-packages/sklearn/utils/deprecation.py:87: FutureWarning: Function make_blobs is deprecated; Please import make_blobs directly from scikit-learn\n",
            "  warnings.warn(msg, category=FutureWarning)\n"
          ],
          "name": "stderr"
        },
        {
          "output_type": "stream",
          "text": [
            "форма массива X: (26, 2)\n"
          ],
          "name": "stdout"
        },
        {
          "output_type": "display_data",
          "data": {
            "image/png": "[encoded data removed]",
            "text/plain": [
              "<Figure size 432x288 with 1 Axes>"
            ]
          },
          "metadata": {
            "tags": [],
            "needs_background": "light"
          }
        }
      ]
    },
    {
      "cell_type": "code",
      "metadata": {
        "colab": {
          "base_uri": "https://localhost:8080/",
          "height": 242
        },
        "id": "FPlLs2UIS3NK",
        "outputId": "e4eddb68-9ffb-4ff1-9944-b91b7f5edfaf"
      },
      "source": [
        " \n",
        "X, y = mglearn.datasets.make_wave(n_samples=40) \n",
        "plt.plot(X, y, 'o') \n",
        "plt.ylim(-3, 3) \n",
        "plt.xlabel(\"Признак\") \n",
        "plt.ylabel(\"Целевая переменная\")"
      ],
      "execution_count": null,
      "outputs": [
        {
          "output_type": "execute_result",
          "data": {
            "text/plain": [
              "Text(0, 0.5, 'Целевая переменная')"
            ]
          },
          "metadata": {
            "tags": []
          },
          "execution_count": 3
        },
        {
          "output_type": "display_data",
          "data": {
            "image/png": "[encoded data removed]",
            "text/plain": [
              "<Figure size 432x288 with 1 Axes>"
            ]
          },
          "metadata": {
            "tags": [],
            "needs_background": "light"
          }
        }
      ]
    },
    {
      "cell_type": "code",
      "metadata": {
        "colab": {
          "base_uri": "https://localhost:8080/"
        },
        "id": "0A0vn-H24EWR",
        "outputId": "f6a855d6-caa2-4f7e-eb5b-8a2c4e0b4607"
      },
      "source": [
        " \n",
        "from sklearn.datasets import load_breast_cancer \n",
        "cancer = load_breast_cancer() \n",
        "print(\"Ключи cancer(): \\n{}\".format(cancer.keys()))"
      ],
      "execution_count": null,
      "outputs": [
        {
          "output_type": "stream",
          "text": [
            "Ключи cancer(): \n",
            "dict_keys(['data', 'target', 'target_names', 'DESCR', 'feature_names', 'filename'])\n"
          ],
          "name": "stdout"
        }
      ]
    },
    {
      "cell_type": "code",
      "metadata": {
        "colab": {
          "base_uri": "https://localhost:8080/"
        },
        "id": "VbCRfDrk4yzx",
        "outputId": "5c1ba70e-25a5-46e3-db8d-994ad679f672"
      },
      "source": [
        " print(\"Форма массива data для набора cancer: {}\".format(cancer.data.shape))"
      ],
      "execution_count": null,
      "outputs": [
        {
          "output_type": "stream",
          "text": [
            "Форма массива data для набора cancer: (569, 30)\n"
          ],
          "name": "stdout"
        }
      ]
    },
    {
      "cell_type": "code",
      "metadata": {
        "colab": {
          "base_uri": "https://localhost:8080/"
        },
        "id": "M11NASpm5Cvq",
        "outputId": "0cc2aefa-9492-491a-a6fa-6e26fde9dfa5"
      },
      "source": [
        "cancer.data.shape"
      ],
      "execution_count": null,
      "outputs": [
        {
          "output_type": "execute_result",
          "data": {
            "text/plain": [
              "(569, 30)"
            ]
          },
          "metadata": {
            "tags": []
          },
          "execution_count": 5
        }
      ]
    },
    {
      "cell_type": "markdown",
      "metadata": {
        "id": "mtTmN6Ik7Sa-"
      },
      "source": [
        " Набор данных включает 569 точек данных и 30 признаков."
      ]
    }
  ]
}